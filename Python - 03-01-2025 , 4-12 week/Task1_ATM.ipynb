{
 "cells": [
  {
   "cell_type": "code",
   "execution_count": 13,
   "metadata": {},
   "outputs": [
    {
     "data": {
      "text/plain": [
       "'\\nTask 1 - Create a fully functional ATM interface using Python\\n\\n1. Keep ATM card\\n2.  (Check Balance)  Savings , \\n    (Withdraw Money) Withdraw, \\n    (Deposit Money)  Deposit, \\n    (Exit)           Exit\\n3. Savings - [PIN -> Display amount]\\n4. Withdraw - [PIN -> Enter amount -> Confirm  -> Deduct from savings]\\n5. Deposit - [PIN -> Enter amount -> Confirm -> Update the savings]\\n6. Exit - [Logout -> \"Please keep ATM card\"]\\n\\n'"
      ]
     },
     "execution_count": 13,
     "metadata": {},
     "output_type": "execute_result"
    }
   ],
   "source": [
    "\"\"\"\n",
    "Task 1 - Create a fully functional ATM interface using Python\n",
    "\n",
    "1. Keep ATM card\n",
    "2.  (Check Balance)  Savings , \n",
    "    (Withdraw Money) Withdraw, \n",
    "    (Deposit Money)  Deposit, \n",
    "    (Exit)           Exit\n",
    "3. Savings - [PIN -> Display amount]\n",
    "4. Withdraw - [PIN -> Enter amount -> Confirm  -> Deduct from savings]\n",
    "5. Deposit - [PIN -> Enter amount -> Confirm -> Update the savings]\n",
    "6. Exit - [Logout -> \"Please keep ATM card\"]\n",
    "\n",
    "\"\"\""
   ]
  },
  {
   "cell_type": "code",
   "execution_count": 14,
   "metadata": {},
   "outputs": [],
   "source": [
    "class ATM:\n",
    "    def __init__(self,pin,amount):\n",
    "        self.pin=pin\n",
    "        self.amount=amount\n",
    "    def valid_pin(self,Enter_pin):\n",
    "        if Enter_pin==self.pin:\n",
    "            return True\n",
    "        else:\n",
    "            print(\"PIN is incorrect. Please try again\")\n",
    "            return False\n",
    "    def savings(self,Enter_pin):\n",
    "        if Enter_pin==self.pin:\n",
    "            print(\"Savings Amount : \",self.amount)\n",
    "        else:\n",
    "            print(\"PIN is incorrect. Please try again\")\n",
    "    def withdraw(self,Enter_pin,withraw_amount):\n",
    "        if Enter_pin==self.pin:\n",
    "            if withraw_amount<=self.amount:\n",
    "                self.amount=self.amount-withraw_amount\n",
    "            else:\n",
    "                print(\"In sufficient balance\")\n",
    "        else:\n",
    "            print(\"PIN is incorrect. Please try again\")\n",
    "    def deposit(self,Enter_pin,deposit_amount):\n",
    "        if Enter_pin==self.pin:\n",
    "            self.amount=self.amount+deposit_amount\n",
    "        else:\n",
    "            print(\"PIN is incorrect. Please try again\")\n",
    "    def exit(self):\n",
    "        print(\"Logging out!!\")\n",
    "\n",
    "a=ATM(123,10000)"
   ]
  },
  {
   "cell_type": "code",
   "execution_count": 16,
   "metadata": {},
   "outputs": [
    {
     "name": "stdout",
     "output_type": "stream",
     "text": [
      "Insert ATM card (yes/no)? : yes\n",
      "Please enter the pin : 123\n",
      "True\n",
      "Press 1 for Check Balance\n",
      "Press 2 for Withdraw\n",
      "Press 3 for Deposit\n",
      "Press 4 for Exit\n",
      "Please enter the choice : 1\n",
      "Savings Amount :  10000\n",
      "****************************** \n",
      "\n",
      "Press 1 for Check Balance\n",
      "Press 2 for Withdraw\n",
      "Press 3 for Deposit\n",
      "Press 4 for Exit\n",
      "Please enter the choice : 2\n",
      "Enter the amount to be withrawn : 3500\n",
      "Savings Amount :  6500\n",
      "****************************** \n",
      "\n",
      "Press 1 for Check Balance\n",
      "Press 2 for Withdraw\n",
      "Press 3 for Deposit\n",
      "Press 4 for Exit\n",
      "Please enter the choice : 3\n",
      "Enter the amount to be withrawn : 12000\n",
      "Savings Amount :  18500\n",
      "****************************** \n",
      "\n",
      "Press 1 for Check Balance\n",
      "Press 2 for Withdraw\n",
      "Press 3 for Deposit\n",
      "Press 4 for Exit\n",
      "Please enter the choice : 1\n",
      "Savings Amount :  18500\n",
      "****************************** \n",
      "\n",
      "Press 1 for Check Balance\n",
      "Press 2 for Withdraw\n",
      "Press 3 for Deposit\n",
      "Press 4 for Exit\n",
      "Please enter the choice : 1\n",
      "Savings Amount :  18500\n",
      "****************************** \n",
      "\n",
      "Press 1 for Check Balance\n",
      "Press 2 for Withdraw\n",
      "Press 3 for Deposit\n",
      "Press 4 for Exit\n",
      "Please enter the choice : 4\n",
      "Logging out!!\n"
     ]
    }
   ],
   "source": [
    "operation=[\"Check Balance\",\"Withdraw\",\"Deposit\",\"Exit\"]\n",
    "print(\"Insert ATM card (yes/no)? : \",end=\"\")\n",
    "atm_insert=input(\"Insert ATM card (yes/no)? : \")\n",
    "print(atm_insert)\n",
    "\n",
    "if atm_insert==\"yes\":\n",
    "    print(\"Please enter the pin : \",end=\"\")\n",
    "    entered_pin=int(input(\"Please enter the pin : \"))\n",
    "    print(entered_pin)\n",
    "    valid=a.valid_pin(entered_pin)\n",
    "    print(valid)\n",
    "    while(valid):\n",
    "        for i in range(len(operation)):\n",
    "            print(f\"Press {i+1} for {operation[i]}\")\n",
    "        print(\"Please enter the choice : \",end=\"\")\n",
    "        user_choice=int(input(\"Please enter the choice : \"))\n",
    "        print(user_choice)\n",
    "\n",
    "        if user_choice==1:\n",
    "            a.savings(entered_pin)\n",
    "        elif user_choice==2:\n",
    "            print(\"Enter the amount to be withrawn : \",end=\"\")\n",
    "            wtd_amt=int(input(\"Enter the amount to be withrawn : \"))\n",
    "            print(wtd_amt)\n",
    "            a.withdraw(entered_pin,wtd_amt)\n",
    "            a.savings(entered_pin)\n",
    "        elif user_choice==3:\n",
    "            print(\"Enter the amount to be withrawn : \",end=\"\")\n",
    "            dpt_amt=int(input(\"Enter the amount to be deposited : \"))\n",
    "            print(dpt_amt)\n",
    "            a.deposit(entered_pin,dpt_amt)\n",
    "            a.savings(entered_pin)\n",
    "        elif user_choice==4:\n",
    "            a.exit()\n",
    "            break\n",
    "        else:\n",
    "            pass\n",
    "        print(\"*\"*30,\"\\n\")"
   ]
  },
  {
   "cell_type": "code",
   "execution_count": null,
   "metadata": {},
   "outputs": [],
   "source": []
  }
 ],
 "metadata": {
  "kernelspec": {
   "display_name": "base",
   "language": "python",
   "name": "python3"
  },
  "language_info": {
   "codemirror_mode": {
    "name": "ipython",
    "version": 3
   },
   "file_extension": ".py",
   "mimetype": "text/x-python",
   "name": "python",
   "nbconvert_exporter": "python",
   "pygments_lexer": "ipython3",
   "version": "3.11.4"
  }
 },
 "nbformat": 4,
 "nbformat_minor": 2
}
